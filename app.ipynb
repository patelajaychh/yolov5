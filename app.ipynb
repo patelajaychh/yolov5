{
 "cells": [
  {
   "cell_type": "code",
   "execution_count": 11,
   "id": "01a06858-49e3-4f3b-b107-d202bf552b64",
   "metadata": {},
   "outputs": [],
   "source": [
    "import torch\n",
    "from IPython.display import Image, clear_output, display\n",
    "from ipywidgets import widgets\n",
    "import cv2\n",
    "import matplotlib.pyplot as plt\n",
    "import os\n",
    "from PIL import Image\n",
    "from subprocess import run\n",
    "import easyocr\n",
    "import warnings\n",
    "\n",
    "warnings.filterwarnings(action=\"ignore\")"
   ]
  },
  {
   "cell_type": "code",
   "execution_count": 14,
   "id": "c6c76bdc-520d-49d1-b12d-207a46e57d93",
   "metadata": {},
   "outputs": [],
   "source": [
    "def infer(img_path):\n",
    "    results = run([\"python3\",\"detect.py\" ,\"--weights\", \"runs/train/chkpt/best.pt\", \"--source\", img_path, \"--exist-ok\", \"--save-txt\", \"--save-conf\"], capture_output=True)\n",
    "    return results\n",
    "\n",
    "def extractText(img):\n",
    "    reader = easyocr.Reader(['en'], gpu=False)\n",
    "    text = \" \".join([li[1] for li in reader.readtext(img)]) \n",
    "    return text"
   ]
  },
  {
   "cell_type": "markdown",
   "id": "1e568db3-cc6f-4556-96f5-410066626026",
   "metadata": {},
   "source": [
    "## Detecting **Person, Logo, Cartoon and Text**"
   ]
  },
  {
   "cell_type": "code",
   "execution_count": 16,
   "id": "8a60db56-26ba-453d-8301-3e42c576191c",
   "metadata": {},
   "outputs": [
    {
     "data": {
      "application/vnd.jupyter.widget-view+json": {
       "model_id": "b9e97ce6b4574a8bb23036aa1cafe596",
       "version_major": 2,
       "version_minor": 0
      },
      "text/plain": [
       "HBox(children=(VBox(children=(HBox(children=(FileUpload(value={}, accept='image/*', description='Upload'), But…"
      ]
     },
     "metadata": {},
     "output_type": "display_data"
    }
   ],
   "source": [
    "img_path = \"test_data/temp_img.jpg\"\n",
    "btn = widgets.Button(description=\"Get Results\")\n",
    "uploader = widgets.FileUpload(accept='image/*', multiple=False)\n",
    "image_widget = widgets.Image(width=300,height=400)\n",
    "image_widget.visible = False\n",
    "\n",
    "\n",
    "out = widgets.Output()\n",
    "def on_btn_clicked(b):\n",
    "    with out:\n",
    "        \n",
    "        clear_output()\n",
    "        img = uploader.data[0]\n",
    "        uploader.data = []\n",
    "        with open(\"test_data/temp_img.jpg\", 'wb') as f:\n",
    "            f.write(img)\n",
    "        \n",
    "        label_path = \"runs/detect/exp/labels/temp_img.txt\"\n",
    "        if os.path.exists(label_path):\n",
    "            os.remove(label_path)\n",
    "        \n",
    "        result = infer(img_path)\n",
    "        text = extractText(img)\n",
    "        \n",
    "        line = \"\"\n",
    "        cat_idxs = [] \n",
    "        categories = ['Cartoon', 'Person', 'Logo']\n",
    "        if os.path.exists(label_path):\n",
    "            with open(label_path, 'r') as f:\n",
    "                line = f.readline().strip()\n",
    "                while line:    \n",
    "                    parts = line.split()\n",
    "                    cat_idxs.append(int(parts[0]))\n",
    "                    line = f.readline().strip()\n",
    "        \n",
    "        nrof_person = cat_idxs.count(1)\n",
    "        nrof_cartoon = cat_idxs.count(0)\n",
    "        nrof_logo = cat_idxs.count(2)\n",
    "\n",
    "\n",
    "        image_widget.visible = True\n",
    "        image_widget.value = open(\"./runs/detect/exp/temp_img.jpg\", 'rb').read()\n",
    "        image_widget.format=\"jpg\"\n",
    "\n",
    "        print(f\"Image contains:\\nNo of Cartoon:{nrof_cartoon}\\t No of Person:{nrof_person}\\t\\tNo of Logo:{nrof_logo}\\n\\nText in image:\\n{text}\")\n",
    "        \n",
    "btn.on_click(on_btn_clicked)\n",
    "vbox = widgets.VBox([widgets.HBox([uploader, btn]), image_widget], width=300,height=400)\n",
    "widgets.HBox([vbox, out])"
   ]
  },
  {
   "cell_type": "code",
   "execution_count": null,
   "id": "9e022169-2573-4293-bcd3-960e541f0f74",
   "metadata": {},
   "outputs": [],
   "source": []
  }
 ],
 "metadata": {
  "kernelspec": {
   "display_name": "Python 3 (ipykernel)",
   "language": "python",
   "name": "python3"
  },
  "language_info": {
   "codemirror_mode": {
    "name": "ipython",
    "version": 3
   },
   "file_extension": ".py",
   "mimetype": "text/x-python",
   "name": "python",
   "nbconvert_exporter": "python",
   "pygments_lexer": "ipython3",
   "version": "3.8.10"
  }
 },
 "nbformat": 4,
 "nbformat_minor": 5
}
